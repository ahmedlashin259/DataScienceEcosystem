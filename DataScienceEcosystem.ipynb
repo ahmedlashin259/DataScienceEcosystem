{
  "metadata": {
    "kernelspec": {
      "name": "python",
      "display_name": "Python (Pyodide)",
      "language": "python"
    },
    "language_info": {
      "codemirror_mode": {
        "name": "python",
        "version": 3
      },
      "file_extension": ".py",
      "mimetype": "text/x-python",
      "name": "python",
      "nbconvert_exporter": "python",
      "pygments_lexer": "ipython3",
      "version": "3.8"
    }
  },
  "nbformat_minor": 5,
  "nbformat": 4,
  "cells": [
    {
      "id": "9e04ebaf-3661-49d1-94c1-d64ba66433b2",
      "cell_type": "markdown",
      "source": "# Data Science Tools and Ecosystem\n",
      "metadata": {}
    },
    {
      "id": "27e5756e-8214-47a9-8df5-3a6641dcd067",
      "cell_type": "markdown",
      "source": "In this notebook, Data Science Tools and Ecosystem are summarized.",
      "metadata": {}
    },
    {
      "id": "b3e49eb0-8df9-41b8-92a7-e204ca42c80f",
      "cell_type": "markdown",
      "source": "**Objectives:**\n\n- List popular languages for Data Science\n- Identify commonly used libraries by Data Scientists\n- Create Markdown cells in Jupyter Notebook\n- Format text and lists using Markdown\n",
      "metadata": {}
    },
    {
      "id": "aeb11f92-bbc9-412c-a46c-23949d620a90",
      "cell_type": "markdown",
      "source": "Some of the popular languages that Data Scientists use are:\n1. python\n2. sql\n3. R",
      "metadata": {}
    },
    {
      "id": "c5af516c-5dc7-437f-8048-aa4262188ddf",
      "cell_type": "markdown",
      "source": "Some of the commonly used libraries by Data Scientists include:\n1. Pandas\n2. NumPy\n3. Matplotlib\n",
      "metadata": {}
    },
    {
      "id": "db220e09-38fb-48d3-8964-0448bd20416e",
      "cell_type": "markdown",
      "source": "| Data Science Tools |\n|--------------------|\n| Pandas             |\n| NumPy              |\n| Matplotlib         |",
      "metadata": {}
    },
    {
      "id": "d91d6864-595f-4a41-a6c4-e0d80bdb1fa6",
      "cell_type": "markdown",
      "source": "### Below are a few examples of evaluating arithmetic expressions in Python.",
      "metadata": {}
    },
    {
      "id": "7bd60ba1-c577-477e-89b3-1f67bad94ed8",
      "cell_type": "code",
      "source": "(3*4)+5",
      "metadata": {
        "trusted": true
      },
      "outputs": [
        {
          "execution_count": 3,
          "output_type": "execute_result",
          "data": {
            "text/plain": "17"
          },
          "metadata": {}
        }
      ],
      "execution_count": 3
    },
    {
      "id": "a780598f-518e-45be-a482-2426cfd146df",
      "cell_type": "code",
      "source": "200/60",
      "metadata": {
        "trusted": true
      },
      "outputs": [
        {
          "execution_count": 4,
          "output_type": "execute_result",
          "data": {
            "text/plain": "3.3333333333333335"
          },
          "metadata": {}
        }
      ],
      "execution_count": 4
    },
    {
      "id": "903a6d27-df46-4a7c-802e-e6cf93106125",
      "cell_type": "markdown",
      "source": "## Author\nahmed lashin tawfik",
      "metadata": {}
    },
    {
      "id": "0e32674e-f596-4db1-acd7-73df59ff197a",
      "cell_type": "code",
      "source": "",
      "metadata": {
        "trusted": true
      },
      "outputs": [],
      "execution_count": null
    }
  ]
}